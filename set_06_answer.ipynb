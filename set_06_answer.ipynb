{
 "cells": [
  {
   "cell_type": "code",
   "execution_count": 2,
   "id": "ee3c8aa2",
   "metadata": {},
   "outputs": [],
   "source": [
    "import pandas as pd\n",
    "import numpy as np\n",
    "\n",
    "from sklearn.linear_model import LogisticRegression\n",
    "from sklearn.neighbors import KNeighborsClassifier"
   ]
  },
  {
   "cell_type": "code",
   "execution_count": 3,
   "id": "2f643b7f",
   "metadata": {},
   "outputs": [
    {
     "data": {
      "text/html": [
       "<div>\n",
       "<style scoped>\n",
       "    .dataframe tbody tr th:only-of-type {\n",
       "        vertical-align: middle;\n",
       "    }\n",
       "\n",
       "    .dataframe tbody tr th {\n",
       "        vertical-align: top;\n",
       "    }\n",
       "\n",
       "    .dataframe thead th {\n",
       "        text-align: right;\n",
       "    }\n",
       "</style>\n",
       "<table border=\"1\" class=\"dataframe\">\n",
       "  <thead>\n",
       "    <tr style=\"text-align: right;\">\n",
       "      <th></th>\n",
       "      <th>enrollee_id</th>\n",
       "      <th>city</th>\n",
       "      <th>city_development_index</th>\n",
       "      <th>gender</th>\n",
       "      <th>relevant_experience</th>\n",
       "      <th>enrolled_university</th>\n",
       "      <th>education_level</th>\n",
       "      <th>major_discipline</th>\n",
       "      <th>experience</th>\n",
       "      <th>company_size</th>\n",
       "      <th>company_type</th>\n",
       "      <th>last_new_job</th>\n",
       "      <th>training_hours</th>\n",
       "      <th>target</th>\n",
       "      <th>Xgrp</th>\n",
       "    </tr>\n",
       "  </thead>\n",
       "  <tbody>\n",
       "    <tr>\n",
       "      <th>0</th>\n",
       "      <td>8949.0</td>\n",
       "      <td>city_103</td>\n",
       "      <td>0.920</td>\n",
       "      <td>Male</td>\n",
       "      <td>Has relevant experience</td>\n",
       "      <td>no_enrollment</td>\n",
       "      <td>Graduate</td>\n",
       "      <td>STEM</td>\n",
       "      <td>&gt;20</td>\n",
       "      <td>NaN</td>\n",
       "      <td>NaN</td>\n",
       "      <td>1</td>\n",
       "      <td>36.0</td>\n",
       "      <td>1.0</td>\n",
       "      <td>train</td>\n",
       "    </tr>\n",
       "    <tr>\n",
       "      <th>1</th>\n",
       "      <td>29725.0</td>\n",
       "      <td>city_40</td>\n",
       "      <td>0.776</td>\n",
       "      <td>Male</td>\n",
       "      <td>No relevant experience</td>\n",
       "      <td>no_enrollment</td>\n",
       "      <td>Graduate</td>\n",
       "      <td>STEM</td>\n",
       "      <td>15</td>\n",
       "      <td>50-99</td>\n",
       "      <td>Pvt Ltd</td>\n",
       "      <td>&gt;4</td>\n",
       "      <td>47.0</td>\n",
       "      <td>0.0</td>\n",
       "      <td>train</td>\n",
       "    </tr>\n",
       "  </tbody>\n",
       "</table>\n",
       "</div>"
      ],
      "text/plain": [
       "   enrollee_id      city  city_development_index gender  \\\n",
       "0       8949.0  city_103                   0.920   Male   \n",
       "1      29725.0   city_40                   0.776   Male   \n",
       "\n",
       "       relevant_experience enrolled_university education_level  \\\n",
       "0  Has relevant experience       no_enrollment        Graduate   \n",
       "1   No relevant experience       no_enrollment        Graduate   \n",
       "\n",
       "  major_discipline experience company_size company_type last_new_job  \\\n",
       "0             STEM        >20          NaN          NaN            1   \n",
       "1             STEM         15        50-99      Pvt Ltd           >4   \n",
       "\n",
       "   training_hours  target   Xgrp  \n",
       "0            36.0     1.0  train  \n",
       "1            47.0     0.0  train  "
      ]
     },
     "execution_count": 3,
     "metadata": {},
     "output_type": "execute_result"
    }
   ],
   "source": [
    "df = pd.read_csv(\"edu_enrollees.csv\")\n",
    "df.head(2)"
   ]
  },
  {
   "cell_type": "markdown",
   "id": "4fe395c2",
   "metadata": {},
   "source": [
    "### 전처리"
   ]
  },
  {
   "cell_type": "code",
   "execution_count": 4,
   "id": "ebbdba8e",
   "metadata": {},
   "outputs": [],
   "source": [
    "df = df.drop(columns = [\"city\", \"company_size\", \"company_type\"])"
   ]
  },
  {
   "cell_type": "code",
   "execution_count": 7,
   "id": "fd06e150",
   "metadata": {},
   "outputs": [],
   "source": [
    "# df.dtypes\n",
    "df.isna().sum()"
   ]
  },
  {
   "cell_type": "code",
   "execution_count": 9,
   "id": "cbccabd9",
   "metadata": {},
   "outputs": [],
   "source": [
    "df = df.dropna()\n",
    "df.isna().sum()"
   ]
  },
  {
   "cell_type": "code",
   "execution_count": null,
   "id": "11b12b1a",
   "metadata": {},
   "outputs": [],
   "source": [
    "df[\"experience\"].unique(), df[\"last_new_job\"].unique()"
   ]
  },
  {
   "cell_type": "code",
   "execution_count": 11,
   "id": "362cc6bc",
   "metadata": {},
   "outputs": [],
   "source": [
    "df = df.loc[~df[\"experience\"].isin([\">20\", \"<1\"]), ]\n",
    "df = df.loc[~df[\"last_new_job\"].isin([\">4\", \"never\"]), ]"
   ]
  },
  {
   "cell_type": "code",
   "execution_count": 13,
   "id": "103e626c",
   "metadata": {},
   "outputs": [],
   "source": [
    "df[\"experience\"] = df[\"experience\"].astype(\"int\")\n",
    "df[\"last_new_job\"] = df[\"last_new_job\"].astype(\"int\")"
   ]
  },
  {
   "cell_type": "code",
   "execution_count": 12,
   "id": "bb5a0f04",
   "metadata": {},
   "outputs": [
    {
     "data": {
      "text/plain": [
       "7522"
      ]
     },
     "execution_count": 12,
     "metadata": {},
     "output_type": "execute_result"
    }
   ],
   "source": [
    "len(df)"
   ]
  },
  {
   "cell_type": "code",
   "execution_count": 16,
   "id": "24087bb7",
   "metadata": {},
   "outputs": [],
   "source": [
    "df_base = df.reset_index(drop = True)"
   ]
  },
  {
   "cell_type": "markdown",
   "id": "fd5d460b",
   "metadata": {},
   "source": [
    "### Q1."
   ]
  },
  {
   "cell_type": "code",
   "execution_count": 17,
   "id": "a408f4f8",
   "metadata": {},
   "outputs": [
    {
     "data": {
      "text/html": [
       "<div>\n",
       "<style scoped>\n",
       "    .dataframe tbody tr th:only-of-type {\n",
       "        vertical-align: middle;\n",
       "    }\n",
       "\n",
       "    .dataframe tbody tr th {\n",
       "        vertical-align: top;\n",
       "    }\n",
       "\n",
       "    .dataframe thead th {\n",
       "        text-align: right;\n",
       "    }\n",
       "</style>\n",
       "<table border=\"1\" class=\"dataframe\">\n",
       "  <thead>\n",
       "    <tr style=\"text-align: right;\">\n",
       "      <th></th>\n",
       "      <th>relevant_experience</th>\n",
       "      <th>target</th>\n",
       "    </tr>\n",
       "  </thead>\n",
       "  <tbody>\n",
       "    <tr>\n",
       "      <th>0</th>\n",
       "      <td>Has relevant experience</td>\n",
       "      <td>1.0</td>\n",
       "    </tr>\n",
       "    <tr>\n",
       "      <th>1</th>\n",
       "      <td>Has relevant experience</td>\n",
       "      <td>0.0</td>\n",
       "    </tr>\n",
       "  </tbody>\n",
       "</table>\n",
       "</div>"
      ],
      "text/plain": [
       "       relevant_experience  target\n",
       "0  Has relevant experience     1.0\n",
       "1  Has relevant experience     0.0"
      ]
     },
     "execution_count": 17,
     "metadata": {},
     "output_type": "execute_result"
    }
   ],
   "source": [
    "df_q1 = df_base[[\"relevant_experience\", \"target\"]].copy()\n",
    "df_q1.head(2)"
   ]
  },
  {
   "cell_type": "code",
   "execution_count": 18,
   "id": "7b991caa",
   "metadata": {},
   "outputs": [
    {
     "data": {
      "text/plain": [
       "array(['Has relevant experience', 'No relevant experience'], dtype=object)"
      ]
     },
     "execution_count": 18,
     "metadata": {},
     "output_type": "execute_result"
    }
   ],
   "source": [
    "df_q1[\"relevant_experience\"].unique()"
   ]
  },
  {
   "cell_type": "code",
   "execution_count": 19,
   "id": "029521bd",
   "metadata": {},
   "outputs": [],
   "source": [
    "# 없는 -> A, 있는 -> B\n",
    "df_A = df_q1.loc[df_q1[\"relevant_experience\"] ==  \"No relevant experience\", ]\n",
    "df_B = df_q1.loc[df_q1[\"relevant_experience\"] == \"Has relevant experience\", ]"
   ]
  },
  {
   "cell_type": "code",
   "execution_count": 22,
   "id": "0953dbb7",
   "metadata": {
    "collapsed": true
   },
   "outputs": [
    {
     "data": {
      "text/plain": [
       "target\n",
       "0.0    0.617127\n",
       "1.0    0.382873\n",
       "Name: proportion, dtype: float64"
      ]
     },
     "execution_count": 22,
     "metadata": {},
     "output_type": "execute_result"
    }
   ],
   "source": [
    "df_A[\"target\"].value_counts(normalize = True)"
   ]
  },
  {
   "cell_type": "code",
   "execution_count": 23,
   "id": "f97541ed",
   "metadata": {
    "collapsed": true
   },
   "outputs": [
    {
     "data": {
      "text/plain": [
       "target\n",
       "0.0    0.784089\n",
       "1.0    0.215911\n",
       "Name: proportion, dtype: float64"
      ]
     },
     "execution_count": 23,
     "metadata": {},
     "output_type": "execute_result"
    }
   ],
   "source": [
    "df_B[\"target\"].value_counts(normalize = True)"
   ]
  },
  {
   "cell_type": "code",
   "execution_count": 24,
   "id": "3eb533f7",
   "metadata": {},
   "outputs": [
    {
     "data": {
      "text/plain": [
       "1.77"
      ]
     },
     "execution_count": 24,
     "metadata": {},
     "output_type": "execute_result"
    }
   ],
   "source": [
    "stat_A = df_A[\"target\"].value_counts(normalize = True)[1]\n",
    "stat_B = df_B[\"target\"].value_counts(normalize = True)[1]\n",
    "round(stat_A / stat_B, 2)"
   ]
  },
  {
   "cell_type": "code",
   "execution_count": 25,
   "id": "d27ba644",
   "metadata": {},
   "outputs": [
    {
     "data": {
      "text/plain": [
       "relevant_experience\n",
       "Has relevant experience    0.215911\n",
       "No relevant experience     0.382873\n",
       "Name: target, dtype: float64"
      ]
     },
     "execution_count": 25,
     "metadata": {},
     "output_type": "execute_result"
    }
   ],
   "source": [
    "df_q1.groupby(\"relevant_experience\")[\"target\"].mean()"
   ]
  },
  {
   "cell_type": "markdown",
   "id": "47e4b2d0",
   "metadata": {},
   "source": [
    "### Q2."
   ]
  },
  {
   "cell_type": "code",
   "execution_count": 28,
   "id": "01b021ca",
   "metadata": {
    "collapsed": true
   },
   "outputs": [
    {
     "data": {
      "text/html": [
       "<div>\n",
       "<style scoped>\n",
       "    .dataframe tbody tr th:only-of-type {\n",
       "        vertical-align: middle;\n",
       "    }\n",
       "\n",
       "    .dataframe tbody tr th {\n",
       "        vertical-align: top;\n",
       "    }\n",
       "\n",
       "    .dataframe thead th {\n",
       "        text-align: right;\n",
       "    }\n",
       "</style>\n",
       "<table border=\"1\" class=\"dataframe\">\n",
       "  <thead>\n",
       "    <tr style=\"text-align: right;\">\n",
       "      <th></th>\n",
       "      <th>gender</th>\n",
       "      <th>relevant_experience</th>\n",
       "      <th>enrolled_university</th>\n",
       "      <th>education_level</th>\n",
       "      <th>major_discipline</th>\n",
       "    </tr>\n",
       "  </thead>\n",
       "  <tbody>\n",
       "    <tr>\n",
       "      <th>0</th>\n",
       "      <td>Male</td>\n",
       "      <td>Has relevant experience</td>\n",
       "      <td>no_enrollment</td>\n",
       "      <td>Graduate</td>\n",
       "      <td>STEM</td>\n",
       "    </tr>\n",
       "    <tr>\n",
       "      <th>1</th>\n",
       "      <td>Male</td>\n",
       "      <td>Has relevant experience</td>\n",
       "      <td>no_enrollment</td>\n",
       "      <td>Graduate</td>\n",
       "      <td>STEM</td>\n",
       "    </tr>\n",
       "  </tbody>\n",
       "</table>\n",
       "</div>"
      ],
      "text/plain": [
       "  gender      relevant_experience enrolled_university education_level  \\\n",
       "0   Male  Has relevant experience       no_enrollment        Graduate   \n",
       "1   Male  Has relevant experience       no_enrollment        Graduate   \n",
       "\n",
       "  major_discipline  \n",
       "0             STEM  \n",
       "1             STEM  "
      ]
     },
     "execution_count": 28,
     "metadata": {},
     "output_type": "execute_result"
    }
   ],
   "source": [
    "df_q2_obj = df_base.iloc[:, 2:7].copy()\n",
    "df_q2_obj.head(2)"
   ]
  },
  {
   "cell_type": "code",
   "execution_count": 31,
   "id": "d932d0b7",
   "metadata": {},
   "outputs": [],
   "source": [
    "# df_q2_dum = pd.get_dummies(df_q2_obj, columns = df_q2_obj.columns) # 시험버전\n",
    "df_q2_dum = pd.get_dummies(df_q2_obj, dtype = \"int\") # Pandas 2.0.0 이상"
   ]
  },
  {
   "cell_type": "code",
   "execution_count": 32,
   "id": "9831da47",
   "metadata": {
    "collapsed": true
   },
   "outputs": [
    {
     "data": {
      "text/html": [
       "<div>\n",
       "<style scoped>\n",
       "    .dataframe tbody tr th:only-of-type {\n",
       "        vertical-align: middle;\n",
       "    }\n",
       "\n",
       "    .dataframe tbody tr th {\n",
       "        vertical-align: top;\n",
       "    }\n",
       "\n",
       "    .dataframe thead th {\n",
       "        text-align: right;\n",
       "    }\n",
       "</style>\n",
       "<table border=\"1\" class=\"dataframe\">\n",
       "  <thead>\n",
       "    <tr style=\"text-align: right;\">\n",
       "      <th></th>\n",
       "      <th>gender_Female</th>\n",
       "      <th>gender_Male</th>\n",
       "      <th>gender_Other</th>\n",
       "      <th>relevant_experience_Has relevant experience</th>\n",
       "      <th>relevant_experience_No relevant experience</th>\n",
       "      <th>enrolled_university_Full time course</th>\n",
       "      <th>enrolled_university_Part time course</th>\n",
       "      <th>enrolled_university_no_enrollment</th>\n",
       "      <th>education_level_Graduate</th>\n",
       "      <th>education_level_Masters</th>\n",
       "      <th>education_level_Phd</th>\n",
       "      <th>major_discipline_Arts</th>\n",
       "      <th>major_discipline_Business Degree</th>\n",
       "      <th>major_discipline_Humanities</th>\n",
       "      <th>major_discipline_No Major</th>\n",
       "      <th>major_discipline_Other</th>\n",
       "      <th>major_discipline_STEM</th>\n",
       "    </tr>\n",
       "  </thead>\n",
       "  <tbody>\n",
       "    <tr>\n",
       "      <th>0</th>\n",
       "      <td>0</td>\n",
       "      <td>1</td>\n",
       "      <td>0</td>\n",
       "      <td>1</td>\n",
       "      <td>0</td>\n",
       "      <td>0</td>\n",
       "      <td>0</td>\n",
       "      <td>1</td>\n",
       "      <td>1</td>\n",
       "      <td>0</td>\n",
       "      <td>0</td>\n",
       "      <td>0</td>\n",
       "      <td>0</td>\n",
       "      <td>0</td>\n",
       "      <td>0</td>\n",
       "      <td>0</td>\n",
       "      <td>1</td>\n",
       "    </tr>\n",
       "    <tr>\n",
       "      <th>1</th>\n",
       "      <td>0</td>\n",
       "      <td>1</td>\n",
       "      <td>0</td>\n",
       "      <td>1</td>\n",
       "      <td>0</td>\n",
       "      <td>0</td>\n",
       "      <td>0</td>\n",
       "      <td>1</td>\n",
       "      <td>1</td>\n",
       "      <td>0</td>\n",
       "      <td>0</td>\n",
       "      <td>0</td>\n",
       "      <td>0</td>\n",
       "      <td>0</td>\n",
       "      <td>0</td>\n",
       "      <td>0</td>\n",
       "      <td>1</td>\n",
       "    </tr>\n",
       "  </tbody>\n",
       "</table>\n",
       "</div>"
      ],
      "text/plain": [
       "   gender_Female  gender_Male  gender_Other  \\\n",
       "0              0            1             0   \n",
       "1              0            1             0   \n",
       "\n",
       "   relevant_experience_Has relevant experience  \\\n",
       "0                                            1   \n",
       "1                                            1   \n",
       "\n",
       "   relevant_experience_No relevant experience  \\\n",
       "0                                           0   \n",
       "1                                           0   \n",
       "\n",
       "   enrolled_university_Full time course  enrolled_university_Part time course  \\\n",
       "0                                     0                                     0   \n",
       "1                                     0                                     0   \n",
       "\n",
       "   enrolled_university_no_enrollment  education_level_Graduate  \\\n",
       "0                                  1                         1   \n",
       "1                                  1                         1   \n",
       "\n",
       "   education_level_Masters  education_level_Phd  major_discipline_Arts  \\\n",
       "0                        0                    0                      0   \n",
       "1                        0                    0                      0   \n",
       "\n",
       "   major_discipline_Business Degree  major_discipline_Humanities  \\\n",
       "0                                 0                            0   \n",
       "1                                 0                            0   \n",
       "\n",
       "   major_discipline_No Major  major_discipline_Other  major_discipline_STEM  \n",
       "0                          0                       0                      1  \n",
       "1                          0                       0                      1  "
      ]
     },
     "execution_count": 32,
     "metadata": {},
     "output_type": "execute_result"
    }
   ],
   "source": [
    "df_q2_dum.head(2)"
   ]
  },
  {
   "cell_type": "code",
   "execution_count": 35,
   "id": "ba61a10e",
   "metadata": {},
   "outputs": [
    {
     "data": {
      "text/plain": [
       "Index(['enrolled_university', 'education_level'], dtype='object')"
      ]
     },
     "execution_count": 35,
     "metadata": {},
     "output_type": "execute_result"
    }
   ],
   "source": [
    "df_q2_obj.columns[[2, 3]]"
   ]
  },
  {
   "cell_type": "code",
   "execution_count": null,
   "id": "973d7961",
   "metadata": {},
   "outputs": [],
   "source": [
    "df_q2_dum.columns.to_series().reset_index()"
   ]
  },
  {
   "cell_type": "code",
   "execution_count": 38,
   "id": "6c1f3f1d",
   "metadata": {},
   "outputs": [],
   "source": [
    "df_q2_dum = df_q2_dum.drop(columns = df_q2_dum.columns[[2, 4, 7, 10, 16]])"
   ]
  },
  {
   "cell_type": "code",
   "execution_count": 39,
   "id": "bfd61e30",
   "metadata": {},
   "outputs": [
    {
     "data": {
      "text/html": [
       "<div>\n",
       "<style scoped>\n",
       "    .dataframe tbody tr th:only-of-type {\n",
       "        vertical-align: middle;\n",
       "    }\n",
       "\n",
       "    .dataframe tbody tr th {\n",
       "        vertical-align: top;\n",
       "    }\n",
       "\n",
       "    .dataframe thead th {\n",
       "        text-align: right;\n",
       "    }\n",
       "</style>\n",
       "<table border=\"1\" class=\"dataframe\">\n",
       "  <thead>\n",
       "    <tr style=\"text-align: right;\">\n",
       "      <th></th>\n",
       "      <th>gender_Female</th>\n",
       "      <th>gender_Male</th>\n",
       "      <th>relevant_experience_Has relevant experience</th>\n",
       "      <th>enrolled_university_Full time course</th>\n",
       "      <th>enrolled_university_Part time course</th>\n",
       "      <th>education_level_Graduate</th>\n",
       "      <th>education_level_Masters</th>\n",
       "      <th>major_discipline_Arts</th>\n",
       "      <th>major_discipline_Business Degree</th>\n",
       "      <th>major_discipline_Humanities</th>\n",
       "      <th>major_discipline_No Major</th>\n",
       "      <th>major_discipline_Other</th>\n",
       "    </tr>\n",
       "  </thead>\n",
       "  <tbody>\n",
       "    <tr>\n",
       "      <th>0</th>\n",
       "      <td>0</td>\n",
       "      <td>1</td>\n",
       "      <td>1</td>\n",
       "      <td>0</td>\n",
       "      <td>0</td>\n",
       "      <td>1</td>\n",
       "      <td>0</td>\n",
       "      <td>0</td>\n",
       "      <td>0</td>\n",
       "      <td>0</td>\n",
       "      <td>0</td>\n",
       "      <td>0</td>\n",
       "    </tr>\n",
       "  </tbody>\n",
       "</table>\n",
       "</div>"
      ],
      "text/plain": [
       "   gender_Female  gender_Male  relevant_experience_Has relevant experience  \\\n",
       "0              0            1                                            1   \n",
       "\n",
       "   enrolled_university_Full time course  enrolled_university_Part time course  \\\n",
       "0                                     0                                     0   \n",
       "\n",
       "   education_level_Graduate  education_level_Masters  major_discipline_Arts  \\\n",
       "0                         1                        0                      0   \n",
       "\n",
       "   major_discipline_Business Degree  major_discipline_Humanities  \\\n",
       "0                                 0                            0   \n",
       "\n",
       "   major_discipline_No Major  major_discipline_Other  \n",
       "0                          0                       0  "
      ]
     },
     "execution_count": 39,
     "metadata": {},
     "output_type": "execute_result"
    }
   ],
   "source": [
    "df_q2_dum.head(1)"
   ]
  },
  {
   "cell_type": "code",
   "execution_count": 75,
   "id": "1bb444f8",
   "metadata": {},
   "outputs": [
    {
     "data": {
      "text/plain": [
       "Index(['target', 'Xgrp', 'city_development_index', 'gender',\n",
       "       'relevant_experience', 'enrolled_university'],\n",
       "      dtype='object')"
      ]
     },
     "execution_count": 75,
     "metadata": {},
     "output_type": "execute_result"
    }
   ],
   "source": [
    "df_base.columns[np.r_[10, 11, 1:5]]"
   ]
  },
  {
   "cell_type": "code",
   "execution_count": 40,
   "id": "0a19d61e",
   "metadata": {
    "collapsed": true
   },
   "outputs": [
    {
     "data": {
      "text/html": [
       "<div>\n",
       "<style scoped>\n",
       "    .dataframe tbody tr th:only-of-type {\n",
       "        vertical-align: middle;\n",
       "    }\n",
       "\n",
       "    .dataframe tbody tr th {\n",
       "        vertical-align: top;\n",
       "    }\n",
       "\n",
       "    .dataframe thead th {\n",
       "        text-align: right;\n",
       "    }\n",
       "</style>\n",
       "<table border=\"1\" class=\"dataframe\">\n",
       "  <thead>\n",
       "    <tr style=\"text-align: right;\">\n",
       "      <th></th>\n",
       "      <th>target</th>\n",
       "      <th>Xgrp</th>\n",
       "      <th>city_development_index</th>\n",
       "      <th>experience</th>\n",
       "      <th>last_new_job</th>\n",
       "      <th>training_hours</th>\n",
       "      <th>gender_Female</th>\n",
       "      <th>gender_Male</th>\n",
       "      <th>relevant_experience_Has relevant experience</th>\n",
       "      <th>enrolled_university_Full time course</th>\n",
       "      <th>enrolled_university_Part time course</th>\n",
       "      <th>education_level_Graduate</th>\n",
       "      <th>education_level_Masters</th>\n",
       "      <th>major_discipline_Arts</th>\n",
       "      <th>major_discipline_Business Degree</th>\n",
       "      <th>major_discipline_Humanities</th>\n",
       "      <th>major_discipline_No Major</th>\n",
       "      <th>major_discipline_Other</th>\n",
       "    </tr>\n",
       "  </thead>\n",
       "  <tbody>\n",
       "    <tr>\n",
       "      <th>0</th>\n",
       "      <td>1.0</td>\n",
       "      <td>train</td>\n",
       "      <td>0.92</td>\n",
       "      <td>7</td>\n",
       "      <td>1</td>\n",
       "      <td>46.0</td>\n",
       "      <td>0</td>\n",
       "      <td>1</td>\n",
       "      <td>1</td>\n",
       "      <td>0</td>\n",
       "      <td>0</td>\n",
       "      <td>1</td>\n",
       "      <td>0</td>\n",
       "      <td>0</td>\n",
       "      <td>0</td>\n",
       "      <td>0</td>\n",
       "      <td>0</td>\n",
       "      <td>0</td>\n",
       "    </tr>\n",
       "    <tr>\n",
       "      <th>1</th>\n",
       "      <td>0.0</td>\n",
       "      <td>train</td>\n",
       "      <td>0.92</td>\n",
       "      <td>5</td>\n",
       "      <td>1</td>\n",
       "      <td>108.0</td>\n",
       "      <td>0</td>\n",
       "      <td>1</td>\n",
       "      <td>1</td>\n",
       "      <td>0</td>\n",
       "      <td>0</td>\n",
       "      <td>1</td>\n",
       "      <td>0</td>\n",
       "      <td>0</td>\n",
       "      <td>0</td>\n",
       "      <td>0</td>\n",
       "      <td>0</td>\n",
       "      <td>0</td>\n",
       "    </tr>\n",
       "  </tbody>\n",
       "</table>\n",
       "</div>"
      ],
      "text/plain": [
       "   target   Xgrp  city_development_index  experience  last_new_job  \\\n",
       "0     1.0  train                    0.92           7             1   \n",
       "1     0.0  train                    0.92           5             1   \n",
       "\n",
       "   training_hours  gender_Female  gender_Male  \\\n",
       "0            46.0              0            1   \n",
       "1           108.0              0            1   \n",
       "\n",
       "   relevant_experience_Has relevant experience  \\\n",
       "0                                            1   \n",
       "1                                            1   \n",
       "\n",
       "   enrolled_university_Full time course  enrolled_university_Part time course  \\\n",
       "0                                     0                                     0   \n",
       "1                                     0                                     0   \n",
       "\n",
       "   education_level_Graduate  education_level_Masters  major_discipline_Arts  \\\n",
       "0                         1                        0                      0   \n",
       "1                         1                        0                      0   \n",
       "\n",
       "   major_discipline_Business Degree  major_discipline_Humanities  \\\n",
       "0                                 0                            0   \n",
       "1                                 0                            0   \n",
       "\n",
       "   major_discipline_No Major  major_discipline_Other  \n",
       "0                          0                       0  \n",
       "1                          0                       0  "
      ]
     },
     "execution_count": 40,
     "metadata": {},
     "output_type": "execute_result"
    }
   ],
   "source": [
    "cols = [\"city_development_index\", \"experience\", \"last_new_job\", \"training_hours\"]\n",
    "df_job2 = pd.concat([df_base[[\"target\", \"Xgrp\"] + cols],\n",
    "                     df_q2_dum],\n",
    "                    axis = 1)\n",
    "df_job2.head(2)"
   ]
  },
  {
   "cell_type": "code",
   "execution_count": null,
   "id": "8f1709a2",
   "metadata": {},
   "outputs": [],
   "source": [
    "model_lr = LogisticRegression(C = 100000, max_iter = 1000,\n",
    "                              solver = \"liblinear\", random_state = 123)\n",
    "model_lr.fit(X = df_job2.drop(columns = [\"target\", \"Xgrp\"]),\n",
    "             y = df_job2[\"target\"])"
   ]
  },
  {
   "cell_type": "code",
   "execution_count": 45,
   "id": "d737a15d",
   "metadata": {
    "collapsed": true
   },
   "outputs": [
    {
     "data": {
      "text/plain": [
       "array([[-6.11732384e+00, -2.85015530e-02,  9.56531984e-02,\n",
       "        -9.26206002e-04, -1.62975865e-01, -1.36723955e-01,\n",
       "        -7.60567385e-01,  5.14109835e-01, -2.81496522e-01,\n",
       "         3.23116412e-01,  1.67418791e-02,  2.61665001e-01,\n",
       "         1.07607195e-01,  2.43479152e-01,  3.97900227e-01,\n",
       "        -4.39387752e-01]])"
      ]
     },
     "execution_count": 45,
     "metadata": {},
     "output_type": "execute_result"
    }
   ],
   "source": [
    "model_lr.coef_ # 회귀 계수"
   ]
  },
  {
   "cell_type": "code",
   "execution_count": 52,
   "id": "445b1d1b",
   "metadata": {},
   "outputs": [],
   "source": [
    "pd.DataFrame(model_lr.coef_ , columns = df_job2.columns[2:]).transpose()"
   ]
  },
  {
   "cell_type": "code",
   "execution_count": null,
   "id": "ca98d71a",
   "metadata": {},
   "outputs": [],
   "source": [
    "pd.DataFrame(model_lr.coef_ , \n",
    "             columns = df_job2.columns[2:]).transpose()"
   ]
  },
  {
   "cell_type": "code",
   "execution_count": 53,
   "id": "e6d77b25",
   "metadata": {
    "collapsed": true
   },
   "outputs": [
    {
     "data": {
      "text/html": [
       "<div>\n",
       "<style scoped>\n",
       "    .dataframe tbody tr th:only-of-type {\n",
       "        vertical-align: middle;\n",
       "    }\n",
       "\n",
       "    .dataframe tbody tr th {\n",
       "        vertical-align: top;\n",
       "    }\n",
       "\n",
       "    .dataframe thead th {\n",
       "        text-align: right;\n",
       "    }\n",
       "</style>\n",
       "<table border=\"1\" class=\"dataframe\">\n",
       "  <thead>\n",
       "    <tr style=\"text-align: right;\">\n",
       "      <th></th>\n",
       "      <th>0</th>\n",
       "    </tr>\n",
       "  </thead>\n",
       "  <tbody>\n",
       "    <tr>\n",
       "      <th>city_development_index</th>\n",
       "      <td>0.002204</td>\n",
       "    </tr>\n",
       "    <tr>\n",
       "      <th>experience</th>\n",
       "      <td>0.971901</td>\n",
       "    </tr>\n",
       "    <tr>\n",
       "      <th>last_new_job</th>\n",
       "      <td>1.100377</td>\n",
       "    </tr>\n",
       "    <tr>\n",
       "      <th>training_hours</th>\n",
       "      <td>0.999074</td>\n",
       "    </tr>\n",
       "    <tr>\n",
       "      <th>gender_Female</th>\n",
       "      <td>0.849612</td>\n",
       "    </tr>\n",
       "    <tr>\n",
       "      <th>gender_Male</th>\n",
       "      <td>0.872211</td>\n",
       "    </tr>\n",
       "    <tr>\n",
       "      <th>relevant_experience_Has relevant experience</th>\n",
       "      <td>0.467401</td>\n",
       "    </tr>\n",
       "    <tr>\n",
       "      <th>enrolled_university_Full time course</th>\n",
       "      <td>1.672149</td>\n",
       "    </tr>\n",
       "    <tr>\n",
       "      <th>enrolled_university_Part time course</th>\n",
       "      <td>0.754654</td>\n",
       "    </tr>\n",
       "    <tr>\n",
       "      <th>education_level_Graduate</th>\n",
       "      <td>1.381426</td>\n",
       "    </tr>\n",
       "    <tr>\n",
       "      <th>education_level_Masters</th>\n",
       "      <td>1.016883</td>\n",
       "    </tr>\n",
       "    <tr>\n",
       "      <th>major_discipline_Arts</th>\n",
       "      <td>1.299091</td>\n",
       "    </tr>\n",
       "    <tr>\n",
       "      <th>major_discipline_Business Degree</th>\n",
       "      <td>1.113610</td>\n",
       "    </tr>\n",
       "    <tr>\n",
       "      <th>major_discipline_Humanities</th>\n",
       "      <td>1.275680</td>\n",
       "    </tr>\n",
       "    <tr>\n",
       "      <th>major_discipline_No Major</th>\n",
       "      <td>1.488695</td>\n",
       "    </tr>\n",
       "    <tr>\n",
       "      <th>major_discipline_Other</th>\n",
       "      <td>0.644431</td>\n",
       "    </tr>\n",
       "  </tbody>\n",
       "</table>\n",
       "</div>"
      ],
      "text/plain": [
       "                                                    0\n",
       "city_development_index                       0.002204\n",
       "experience                                   0.971901\n",
       "last_new_job                                 1.100377\n",
       "training_hours                               0.999074\n",
       "gender_Female                                0.849612\n",
       "gender_Male                                  0.872211\n",
       "relevant_experience_Has relevant experience  0.467401\n",
       "enrolled_university_Full time course         1.672149\n",
       "enrolled_university_Part time course         0.754654\n",
       "education_level_Graduate                     1.381426\n",
       "education_level_Masters                      1.016883\n",
       "major_discipline_Arts                        1.299091\n",
       "major_discipline_Business Degree             1.113610\n",
       "major_discipline_Humanities                  1.275680\n",
       "major_discipline_No Major                    1.488695\n",
       "major_discipline_Other                       0.644431"
      ]
     },
     "execution_count": 53,
     "metadata": {},
     "output_type": "execute_result"
    }
   ],
   "source": [
    "pd.DataFrame(np.exp(model_lr.coef_), # OR, Odds Ratio\n",
    "             columns = df_job2.columns[2:]).transpose()"
   ]
  },
  {
   "cell_type": "code",
   "execution_count": 55,
   "id": "fb5a3ebc",
   "metadata": {},
   "outputs": [
    {
     "data": {
      "text/plain": [
       "1.6721493496611732"
      ]
     },
     "execution_count": 55,
     "metadata": {},
     "output_type": "execute_result"
    }
   ],
   "source": [
    "np.exp(model_lr.coef_).max()"
   ]
  },
  {
   "cell_type": "code",
   "execution_count": 56,
   "id": "8b35ccc7",
   "metadata": {},
   "outputs": [
    {
     "data": {
      "text/plain": [
       "1.0"
      ]
     },
     "execution_count": 56,
     "metadata": {},
     "output_type": "execute_result"
    }
   ],
   "source": [
    "np.floor(1.2345)"
   ]
  },
  {
   "cell_type": "markdown",
   "id": "2220fc09",
   "metadata": {},
   "source": [
    "### Q3."
   ]
  },
  {
   "cell_type": "code",
   "execution_count": 57,
   "id": "39da14bf",
   "metadata": {},
   "outputs": [
    {
     "data": {
      "text/plain": [
       "(4706, 2816)"
      ]
     },
     "execution_count": 57,
     "metadata": {},
     "output_type": "execute_result"
    }
   ],
   "source": [
    "df_train = df_job2.loc[df_job2[\"Xgrp\"] == \"train\", ]\n",
    "df_test  = df_job2.loc[df_job2[\"Xgrp\"] == \"test\",  ]\n",
    "len(df_train), len(df_test)"
   ]
  },
  {
   "cell_type": "code",
   "execution_count": null,
   "id": "ddf02b89",
   "metadata": {},
   "outputs": [],
   "source": [
    "model_knn = KNeighborsClassifier(n_neighbors = 5)\n",
    "model_knn.fit(X = df_train.drop(columns = [\"target\", \"Xgrp\"]),\n",
    "              y = df_train[\"target\"])\n",
    "pred = model_knn.predict(df_test.drop(columns = [\"target\", \"Xgrp\"]))\n",
    "pred[:4]"
   ]
  },
  {
   "cell_type": "code",
   "execution_count": 60,
   "id": "57cd43a9",
   "metadata": {},
   "outputs": [],
   "source": [
    "y_t = df_test[\"target\"]\n",
    "y_p = pred"
   ]
  },
  {
   "cell_type": "code",
   "execution_count": 62,
   "id": "e92da875",
   "metadata": {
    "collapsed": true
   },
   "outputs": [
    {
     "data": {
      "text/html": [
       "<div>\n",
       "<style scoped>\n",
       "    .dataframe tbody tr th:only-of-type {\n",
       "        vertical-align: middle;\n",
       "    }\n",
       "\n",
       "    .dataframe tbody tr th {\n",
       "        vertical-align: top;\n",
       "    }\n",
       "\n",
       "    .dataframe thead th {\n",
       "        text-align: right;\n",
       "    }\n",
       "</style>\n",
       "<table border=\"1\" class=\"dataframe\">\n",
       "  <thead>\n",
       "    <tr style=\"text-align: right;\">\n",
       "      <th>col_0</th>\n",
       "      <th>0.0</th>\n",
       "      <th>1.0</th>\n",
       "    </tr>\n",
       "    <tr>\n",
       "      <th>target</th>\n",
       "      <th></th>\n",
       "      <th></th>\n",
       "    </tr>\n",
       "  </thead>\n",
       "  <tbody>\n",
       "    <tr>\n",
       "      <th>0.0</th>\n",
       "      <td>1899</td>\n",
       "      <td>193</td>\n",
       "    </tr>\n",
       "    <tr>\n",
       "      <th>1.0</th>\n",
       "      <td>616</td>\n",
       "      <td>108</td>\n",
       "    </tr>\n",
       "  </tbody>\n",
       "</table>\n",
       "</div>"
      ],
      "text/plain": [
       "col_0    0.0  1.0\n",
       "target           \n",
       "0.0     1899  193\n",
       "1.0      616  108"
      ]
     },
     "execution_count": 62,
     "metadata": {},
     "output_type": "execute_result"
    }
   ],
   "source": [
    "df_tab = pd.crosstab(y_t, y_p)\n",
    "df_tab"
   ]
  },
  {
   "cell_type": "code",
   "execution_count": 70,
   "id": "57512616",
   "metadata": {},
   "outputs": [],
   "source": [
    "df_tab.iloc[0, 1]"
   ]
  },
  {
   "cell_type": "code",
   "execution_count": 71,
   "id": "89c21941",
   "metadata": {},
   "outputs": [],
   "source": [
    "df_tab.values.diagonal().sum() / df_tab.values.sum()"
   ]
  },
  {
   "cell_type": "code",
   "execution_count": 68,
   "id": "9c72b12a",
   "metadata": {},
   "outputs": [],
   "source": [
    "from sklearn.metrics import accuracy_score"
   ]
  },
  {
   "cell_type": "code",
   "execution_count": 69,
   "id": "cccd85a3",
   "metadata": {},
   "outputs": [
    {
     "data": {
      "text/plain": [
       "0.71"
      ]
     },
     "execution_count": 69,
     "metadata": {},
     "output_type": "execute_result"
    }
   ],
   "source": [
    "round(accuracy_score(y_true = y_t, y_pred = y_p), 2)"
   ]
  },
  {
   "cell_type": "markdown",
   "id": "e57781ec",
   "metadata": {},
   "source": [
    "여러분의 시험과 가장 비슷한 시험은 멀티캠퍼스의 ProDS 자격의 Advanced level 입니다.\n",
    "그러나....  \n",
    "아쉽게도 관련 서적 0, 비슷한 예제 0"
   ]
  },
  {
   "cell_type": "markdown",
   "id": "4fe3ab79",
   "metadata": {},
   "source": [
    "그나마 빅데이터 분석기사....로 검색했을 때 뭔가가 나오긴 함...."
   ]
  },
  {
   "cell_type": "code",
   "execution_count": null,
   "id": "b883ca39",
   "metadata": {},
   "outputs": [],
   "source": []
  }
 ],
 "metadata": {
  "kernelspec": {
   "display_name": "Python 3 (ipykernel)",
   "language": "python",
   "name": "python3"
  },
  "language_info": {
   "codemirror_mode": {
    "name": "ipython",
    "version": 3
   },
   "file_extension": ".py",
   "mimetype": "text/x-python",
   "name": "python",
   "nbconvert_exporter": "python",
   "pygments_lexer": "ipython3",
   "version": "3.9.12"
  }
 },
 "nbformat": 4,
 "nbformat_minor": 5
}
