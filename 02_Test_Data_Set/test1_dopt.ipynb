{
 "cells": [
  {
   "cell_type": "code",
   "execution_count": 3,
   "metadata": {},
   "outputs": [],
   "source": [
    "import pandas as pd\n",
    "import numpy as np\n",
    "from sklearn.ensemble import RandomForestRegressor"
   ]
  },
  {
   "cell_type": "code",
   "execution_count": 4,
   "metadata": {},
   "outputs": [
    {
     "data": {
      "text/html": [
       "<div>\n",
       "<style scoped>\n",
       "    .dataframe tbody tr th:only-of-type {\n",
       "        vertical-align: middle;\n",
       "    }\n",
       "\n",
       "    .dataframe tbody tr th {\n",
       "        vertical-align: top;\n",
       "    }\n",
       "\n",
       "    .dataframe thead th {\n",
       "        text-align: right;\n",
       "    }\n",
       "</style>\n",
       "<table border=\"1\" class=\"dataframe\">\n",
       "  <thead>\n",
       "    <tr style=\"text-align: right;\">\n",
       "      <th></th>\n",
       "      <th>Product_Name</th>\n",
       "      <th>Stars</th>\n",
       "      <th>Ratings</th>\n",
       "      <th>Reviews</th>\n",
       "      <th>current_price</th>\n",
       "      <th>MRP</th>\n",
       "      <th>channel</th>\n",
       "      <th>Operating_system</th>\n",
       "      <th>Picture_quality</th>\n",
       "      <th>Speaker</th>\n",
       "      <th>Frequency</th>\n",
       "    </tr>\n",
       "  </thead>\n",
       "  <tbody>\n",
       "    <tr>\n",
       "      <th>0</th>\n",
       "      <td>Croma</td>\n",
       "      <td>4.2</td>\n",
       "      <td>1773</td>\n",
       "      <td>217</td>\n",
       "      <td>7990</td>\n",
       "      <td>20000</td>\n",
       "      <td>HD Ready 1366 x 768 Pixels</td>\n",
       "      <td>20 Speaker Output</td>\n",
       "      <td>60 Hz Refresh Rate</td>\n",
       "      <td>2 x HDMI | 2 x USB</td>\n",
       "      <td>1 Year Warranty</td>\n",
       "    </tr>\n",
       "    <tr>\n",
       "      <th>1</th>\n",
       "      <td>Adsun</td>\n",
       "      <td>3.8</td>\n",
       "      <td>6742</td>\n",
       "      <td>930</td>\n",
       "      <td>8699</td>\n",
       "      <td>21999</td>\n",
       "      <td>Netflix|Disney+Hotstar|Youtube</td>\n",
       "      <td>Operating System: Android Based</td>\n",
       "      <td>HD Ready 1366 x 768 Pixels</td>\n",
       "      <td>20 W Speaker Output</td>\n",
       "      <td>60 Hz Refresh Rate</td>\n",
       "    </tr>\n",
       "    <tr>\n",
       "      <th>2</th>\n",
       "      <td>LG</td>\n",
       "      <td>4.4</td>\n",
       "      <td>38870</td>\n",
       "      <td>3443</td>\n",
       "      <td>16499</td>\n",
       "      <td>21990</td>\n",
       "      <td>Netflix|Prime Video|Disney+Hotstar|Youtube</td>\n",
       "      <td>Operating System: WebOS</td>\n",
       "      <td>HD Ready 1366 x 768 Pixels</td>\n",
       "      <td>10 W Speaker Output</td>\n",
       "      <td>50 Hz Refresh Rate</td>\n",
       "    </tr>\n",
       "    <tr>\n",
       "      <th>3</th>\n",
       "      <td>OnePlus</td>\n",
       "      <td>4.3</td>\n",
       "      <td>101256</td>\n",
       "      <td>9189</td>\n",
       "      <td>16499</td>\n",
       "      <td>21999</td>\n",
       "      <td>Netflix|Prime Video|Disney+Hotstar|Youtube</td>\n",
       "      <td>Operating System: Android</td>\n",
       "      <td>HD Ready 1366 x 768 Pixels</td>\n",
       "      <td>20 W Speaker Output</td>\n",
       "      <td>60 Hz Refresh Rate</td>\n",
       "    </tr>\n",
       "    <tr>\n",
       "      <th>4</th>\n",
       "      <td>Xiaomi</td>\n",
       "      <td>4.3</td>\n",
       "      <td>3120</td>\n",
       "      <td>305</td>\n",
       "      <td>15499</td>\n",
       "      <td>24999</td>\n",
       "      <td>Netflix|Prime Video|Disney+Hotstar|Youtube</td>\n",
       "      <td>Operating System: Android</td>\n",
       "      <td>HD Ready 1366 x 768 Pixels</td>\n",
       "      <td>20 W Speaker Output</td>\n",
       "      <td>60 Hz Refresh Rate</td>\n",
       "    </tr>\n",
       "    <tr>\n",
       "      <th>...</th>\n",
       "      <td>...</td>\n",
       "      <td>...</td>\n",
       "      <td>...</td>\n",
       "      <td>...</td>\n",
       "      <td>...</td>\n",
       "      <td>...</td>\n",
       "      <td>...</td>\n",
       "      <td>...</td>\n",
       "      <td>...</td>\n",
       "      <td>...</td>\n",
       "      <td>...</td>\n",
       "    </tr>\n",
       "    <tr>\n",
       "      <th>661</th>\n",
       "      <td>SONY</td>\n",
       "      <td>4.6</td>\n",
       "      <td>0</td>\n",
       "      <td>0</td>\n",
       "      <td>59999</td>\n",
       "      <td>94900</td>\n",
       "      <td>Ultra HD (4K) 3840 x 2160 pixels Pixels</td>\n",
       "      <td>NO Speaker Output</td>\n",
       "      <td>60 Hz Refresh Rate</td>\n",
       "      <td>2 x HDMI | 1 x USB</td>\n",
       "      <td>1 YEAR</td>\n",
       "    </tr>\n",
       "    <tr>\n",
       "      <th>662</th>\n",
       "      <td>SONY</td>\n",
       "      <td>4.5</td>\n",
       "      <td>6056</td>\n",
       "      <td>1082</td>\n",
       "      <td>34184</td>\n",
       "      <td>68400</td>\n",
       "      <td>Netflix|Prime Video|Youtube</td>\n",
       "      <td>Operating System: Linux based</td>\n",
       "      <td>Ultra HD (4K) 3840 x 2160 Pixels</td>\n",
       "      <td>20 W Speaker Output</td>\n",
       "      <td>50 Hz Refresh Rate</td>\n",
       "    </tr>\n",
       "    <tr>\n",
       "      <th>663</th>\n",
       "      <td>Croma</td>\n",
       "      <td>0.0</td>\n",
       "      <td>0</td>\n",
       "      <td>0</td>\n",
       "      <td>9194</td>\n",
       "      <td>20000</td>\n",
       "      <td>HD Ready 1366 x 786 Pixels</td>\n",
       "      <td>20 Speaker Output</td>\n",
       "      <td>60 Hz Refresh Rate</td>\n",
       "      <td>2 x HDMI | 2 x USB</td>\n",
       "      <td>3 Years Warranty</td>\n",
       "    </tr>\n",
       "    <tr>\n",
       "      <th>664</th>\n",
       "      <td>T-Series</td>\n",
       "      <td>0.0</td>\n",
       "      <td>0</td>\n",
       "      <td>0</td>\n",
       "      <td>26999</td>\n",
       "      <td>33990</td>\n",
       "      <td>Netflix|Prime Video|Apple TV|Disney+Hotstar|Yo...</td>\n",
       "      <td>Full HD 1920 x 1080 Pixels</td>\n",
       "      <td>16 Speaker Output</td>\n",
       "      <td>50 Hz Refresh Rate</td>\n",
       "      <td>2 x HDMI | 2 x USB</td>\n",
       "    </tr>\n",
       "    <tr>\n",
       "      <th>665</th>\n",
       "      <td>SONY</td>\n",
       "      <td>4.4</td>\n",
       "      <td>0</td>\n",
       "      <td>0</td>\n",
       "      <td>52949</td>\n",
       "      <td>72990</td>\n",
       "      <td>Ultra HD (4K) 3840 x 2160 pixels Pixels</td>\n",
       "      <td>10W + 10W Speaker Output</td>\n",
       "      <td>50 Hz Refresh Rate</td>\n",
       "      <td>2 x HDMI | 2 x USB</td>\n",
       "      <td>1 YEAR</td>\n",
       "    </tr>\n",
       "  </tbody>\n",
       "</table>\n",
       "<p>666 rows × 11 columns</p>\n",
       "</div>"
      ],
      "text/plain": [
       "    Product_Name  Stars  Ratings  Reviews  current_price    MRP  \\\n",
       "0          Croma    4.2     1773      217           7990  20000   \n",
       "1          Adsun    3.8     6742      930           8699  21999   \n",
       "2             LG    4.4    38870     3443          16499  21990   \n",
       "3        OnePlus    4.3   101256     9189          16499  21999   \n",
       "4         Xiaomi    4.3     3120      305          15499  24999   \n",
       "..           ...    ...      ...      ...            ...    ...   \n",
       "661         SONY    4.6        0        0          59999  94900   \n",
       "662         SONY    4.5     6056     1082          34184  68400   \n",
       "663        Croma    0.0        0        0           9194  20000   \n",
       "664     T-Series    0.0        0        0          26999  33990   \n",
       "665         SONY    4.4        0        0          52949  72990   \n",
       "\n",
       "                                               channel  \\\n",
       "0                           HD Ready 1366 x 768 Pixels   \n",
       "1                       Netflix|Disney+Hotstar|Youtube   \n",
       "2           Netflix|Prime Video|Disney+Hotstar|Youtube   \n",
       "3           Netflix|Prime Video|Disney+Hotstar|Youtube   \n",
       "4           Netflix|Prime Video|Disney+Hotstar|Youtube   \n",
       "..                                                 ...   \n",
       "661            Ultra HD (4K) 3840 x 2160 pixels Pixels   \n",
       "662                        Netflix|Prime Video|Youtube   \n",
       "663                         HD Ready 1366 x 786 Pixels   \n",
       "664  Netflix|Prime Video|Apple TV|Disney+Hotstar|Yo...   \n",
       "665            Ultra HD (4K) 3840 x 2160 pixels Pixels   \n",
       "\n",
       "                    Operating_system                   Picture_quality  \\\n",
       "0                  20 Speaker Output                60 Hz Refresh Rate   \n",
       "1    Operating System: Android Based        HD Ready 1366 x 768 Pixels   \n",
       "2            Operating System: WebOS        HD Ready 1366 x 768 Pixels   \n",
       "3          Operating System: Android        HD Ready 1366 x 768 Pixels   \n",
       "4          Operating System: Android        HD Ready 1366 x 768 Pixels   \n",
       "..                               ...                               ...   \n",
       "661                NO Speaker Output                60 Hz Refresh Rate   \n",
       "662    Operating System: Linux based  Ultra HD (4K) 3840 x 2160 Pixels   \n",
       "663                20 Speaker Output                60 Hz Refresh Rate   \n",
       "664       Full HD 1920 x 1080 Pixels                 16 Speaker Output   \n",
       "665         10W + 10W Speaker Output                50 Hz Refresh Rate   \n",
       "\n",
       "                 Speaker           Frequency  \n",
       "0     2 x HDMI | 2 x USB     1 Year Warranty  \n",
       "1    20 W Speaker Output  60 Hz Refresh Rate  \n",
       "2    10 W Speaker Output  50 Hz Refresh Rate  \n",
       "3    20 W Speaker Output  60 Hz Refresh Rate  \n",
       "4    20 W Speaker Output  60 Hz Refresh Rate  \n",
       "..                   ...                 ...  \n",
       "661   2 x HDMI | 1 x USB              1 YEAR  \n",
       "662  20 W Speaker Output  50 Hz Refresh Rate  \n",
       "663   2 x HDMI | 2 x USB    3 Years Warranty  \n",
       "664   50 Hz Refresh Rate  2 x HDMI | 2 x USB  \n",
       "665   2 x HDMI | 2 x USB              1 YEAR  \n",
       "\n",
       "[666 rows x 11 columns]"
      ]
     },
     "execution_count": 4,
     "metadata": {},
     "output_type": "execute_result"
    }
   ],
   "source": [
    "df = pd.read_csv(\"TV.csv\", encoding=\"utf-8\")\n",
    "df"
   ]
  },
  {
   "cell_type": "code",
   "execution_count": 5,
   "metadata": {},
   "outputs": [
    {
     "data": {
      "text/plain": [
       "Product_Name         object\n",
       "Stars               float64\n",
       "Ratings               int64\n",
       "Reviews               int64\n",
       "current_price         int64\n",
       "MRP                   int64\n",
       "channel              object\n",
       "Operating_system     object\n",
       "Picture_quality      object\n",
       "Speaker              object\n",
       "Frequency            object\n",
       "dtype: object"
      ]
     },
     "execution_count": 5,
     "metadata": {},
     "output_type": "execute_result"
    }
   ],
   "source": [
    "df.dtypes"
   ]
  },
  {
   "attachments": {},
   "cell_type": "markdown",
   "metadata": {},
   "source": [
    "## Q1."
   ]
  },
  {
   "cell_type": "code",
   "execution_count": 106,
   "metadata": {},
   "outputs": [
    {
     "data": {
      "text/plain": [
       "510"
      ]
     },
     "execution_count": 106,
     "metadata": {},
     "output_type": "execute_result"
    }
   ],
   "source": [
    "df_freq = df.copy()\n",
    "\n",
    "df_freq[\"CorrFreq\"] = np.NaN\n",
    "df_freq.loc[df_freq[\"Picture_quality\"].str.contains(\"\\d{2,3} Hz\", regex=True), \"CorrFreq\"] = df_freq[\"Picture_quality\"]\n",
    "df_freq.loc[df_freq[\"Speaker\"].str.contains(\"\\d{2,3} Hz\", regex=True), \"CorrFreq\"] = df_freq[\"Speaker\"]\n",
    "df_freq.loc[df_freq[\"Frequency\"].str.contains(\"\\d{2,3} Hz\", regex=True), \"CorrFreq\"] = df_freq[\"Frequency\"]\n",
    "df_freq = df_freq.loc[df_freq[\"CorrFreq\"].notna(), ]\n",
    "df_freq.loc[df_freq[\"CorrFreq\"].str.contains(\"^60 Hz\")][\"CorrFreq\"].count()\n",
    "\n",
    "#510"
   ]
  },
  {
   "cell_type": "code",
   "execution_count": 116,
   "metadata": {},
   "outputs": [
    {
     "data": {
      "text/plain": [
       "510"
      ]
     },
     "execution_count": 116,
     "metadata": {},
     "output_type": "execute_result"
    }
   ],
   "source": [
    "#Q1. 정답\n",
    "df_q1 = df[[\"Frequency\", \"Picture_quality\", \"Speaker\"]].copy()\n",
    "ser_u = pd.Series(df_q1[\"Frequency\"].unique())\n",
    "\n",
    "df_q1[\"hz_1\"] = df_q1[\"Frequency\"].str.contains(\"[0-9]{2,3} Hz\") + 0\n",
    "df_q1[\"hz_2\"] = df_q1[\"Picture_quality\"].str.contains(\"[0-9]{2,3} Hz\") + 0\n",
    "df_q1[\"hz_3\"] = df_q1[\"Speaker\"].str.contains(\"[0-9]{2,3} Hz\") + 0\n",
    "# 위 3개가 0, 0, 0 이면 결측\n",
    "\n",
    "결측치개수 = df_q1.loc[:, \"hz_1\":\"hz_3\"].sum(axis=1).value_counts()[0]\n",
    "df_q1 = df_q1.loc[df_q1.loc[:, \"hz_1\":\"hz_3\"].sum(axis=1) != 0]\n",
    "결측지제거후수 = len(df_q1)\n",
    "\n",
    "tx_regex = \"[^0-9]60 Hz|^60 Hz\"\n",
    "df_q1[\"cnt_60Hz\"] = df_q1.loc[:, :\"Speaker\"].apply(lambda x: x.str.contains(tx_regex).sum(), axis = 1)\n",
    "df_q1[\"cnt_60Hz\"].value_counts()[1]\n",
    "\n"
   ]
  },
  {
   "cell_type": "code",
   "execution_count": 105,
   "metadata": {},
   "outputs": [
    {
     "data": {
      "text/plain": [
       "510"
      ]
     },
     "execution_count": 105,
     "metadata": {},
     "output_type": "execute_result"
    }
   ],
   "source": [
    "# Easy One\n",
    "df_q1.apply(lambda x: x.str.contains(\"60 Hz\").sum(), axis=1).value_counts()[1]"
   ]
  },
  {
   "attachments": {},
   "cell_type": "markdown",
   "metadata": {},
   "source": [
    "## Q2."
   ]
  },
  {
   "cell_type": "code",
   "execution_count": 78,
   "metadata": {},
   "outputs": [
    {
     "data": {
      "text/plain": [
       "0.38"
      ]
     },
     "execution_count": 78,
     "metadata": {},
     "output_type": "execute_result"
    }
   ],
   "source": [
    "df_pq = df.copy()\n",
    "\n",
    "m8k = df_pq.loc[df_pq[\"Picture_quality\"].str.contains(\"8K\") | df_pq[\"Operating_system\"].str.contains(\"8K\") | df_pq[\"channel\"].str.contains(\"8K\"), \"Stars\"].mean()\n",
    "m4k = df_pq.loc[df_pq[\"Picture_quality\"].str.contains(\"4K\") | df_pq[\"Operating_system\"].str.contains(\"4K\") | df_pq[\"channel\"].str.contains(\"4K\"), \"Stars\"].mean()\n",
    "diff = abs(m8k - m4k)\n",
    "round(diff, 2)\n",
    "#0.38"
   ]
  },
  {
   "cell_type": "code",
   "execution_count": 132,
   "metadata": {},
   "outputs": [
    {
     "data": {
      "text/plain": [
       "0.38"
      ]
     },
     "execution_count": 132,
     "metadata": {},
     "output_type": "execute_result"
    }
   ],
   "source": [
    "## Q2. 정답\n",
    "\n",
    "df_q2 = df[[\"Stars\", \"Operating_system\", \"channel\", \"Picture_quality\"]].copy()\n",
    "#ser_u = pd.Series(df_q2[\"Operating_system\"].unique())\n",
    "# ser_u = pd.Series(df_q2[\"channel\"].unique())\n",
    "ser_u = pd.Series(df_q2[\"Picture_quality\"].unique())\n",
    "ser_u[ser_u.str.contains(\"4K|8K\")]\n",
    "\n",
    "df_q2[\"cnt_4k\"] = df_q2.iloc[:, [1,2,3]].apply(lambda x: x.str.contains(\"4K\").sum(), axis=1)\n",
    "df_q2[\"cnt_8k\"] = df_q2.iloc[:, [1,2,3]].apply(lambda x: x.str.contains(\"8K\").sum(), axis=1)\n",
    "\n",
    "\n",
    "\n",
    "stat_4k = df_q2.loc[df_q2[\"cnt_4k\"] >= 1, \"Stars\"].mean()\n",
    "stat_8k = df_q2.loc[df_q2[\"cnt_8k\"] >= 1, \"Stars\"].mean()\n",
    "round(abs(stat_4k - stat_8k), 2)\n"
   ]
  },
  {
   "attachments": {},
   "cell_type": "markdown",
   "metadata": {},
   "source": [
    "## Q3."
   ]
  },
  {
   "cell_type": "code",
   "execution_count": 93,
   "metadata": {},
   "outputs": [
    {
     "data": {
      "text/html": [
       "<div>\n",
       "<style scoped>\n",
       "    .dataframe tbody tr th:only-of-type {\n",
       "        vertical-align: middle;\n",
       "    }\n",
       "\n",
       "    .dataframe tbody tr th {\n",
       "        vertical-align: top;\n",
       "    }\n",
       "\n",
       "    .dataframe thead th {\n",
       "        text-align: right;\n",
       "    }\n",
       "</style>\n",
       "<table border=\"1\" class=\"dataframe\">\n",
       "  <thead>\n",
       "    <tr style=\"text-align: right;\">\n",
       "      <th></th>\n",
       "      <th>Product_Name</th>\n",
       "      <th>Stars</th>\n",
       "      <th>Ratings</th>\n",
       "      <th>Reviews</th>\n",
       "      <th>current_price</th>\n",
       "      <th>MRP</th>\n",
       "      <th>channel</th>\n",
       "      <th>Operating_system</th>\n",
       "      <th>Picture_quality</th>\n",
       "      <th>Speaker</th>\n",
       "      <th>Frequency</th>\n",
       "      <th>Ratio</th>\n",
       "      <th>DiscountRatio</th>\n",
       "      <th>Netflix</th>\n",
       "      <th>PrimeVideo</th>\n",
       "      <th>HighDefinition</th>\n",
       "    </tr>\n",
       "  </thead>\n",
       "  <tbody>\n",
       "    <tr>\n",
       "      <th>0</th>\n",
       "      <td>Croma</td>\n",
       "      <td>4.2</td>\n",
       "      <td>1773</td>\n",
       "      <td>217</td>\n",
       "      <td>7990</td>\n",
       "      <td>20000</td>\n",
       "      <td>HD Ready 1366 x 768 Pixels</td>\n",
       "      <td>20 Speaker Output</td>\n",
       "      <td>60 Hz Refresh Rate</td>\n",
       "      <td>2 x HDMI | 2 x USB</td>\n",
       "      <td>1 Year Warranty</td>\n",
       "      <td>0.122391</td>\n",
       "      <td>0.399500</td>\n",
       "      <td>0</td>\n",
       "      <td>0</td>\n",
       "      <td>0</td>\n",
       "    </tr>\n",
       "    <tr>\n",
       "      <th>1</th>\n",
       "      <td>Adsun</td>\n",
       "      <td>3.8</td>\n",
       "      <td>6742</td>\n",
       "      <td>930</td>\n",
       "      <td>8699</td>\n",
       "      <td>21999</td>\n",
       "      <td>Netflix|Disney+Hotstar|Youtube</td>\n",
       "      <td>Operating System: Android Based</td>\n",
       "      <td>HD Ready 1366 x 768 Pixels</td>\n",
       "      <td>20 W Speaker Output</td>\n",
       "      <td>60 Hz Refresh Rate</td>\n",
       "      <td>0.137941</td>\n",
       "      <td>0.395427</td>\n",
       "      <td>1</td>\n",
       "      <td>0</td>\n",
       "      <td>0</td>\n",
       "    </tr>\n",
       "  </tbody>\n",
       "</table>\n",
       "</div>"
      ],
      "text/plain": [
       "  Product_Name  Stars  Ratings  Reviews  current_price    MRP  \\\n",
       "0        Croma    4.2     1773      217           7990  20000   \n",
       "1        Adsun    3.8     6742      930           8699  21999   \n",
       "\n",
       "                          channel                 Operating_system  \\\n",
       "0      HD Ready 1366 x 768 Pixels                20 Speaker Output   \n",
       "1  Netflix|Disney+Hotstar|Youtube  Operating System: Android Based   \n",
       "\n",
       "              Picture_quality              Speaker           Frequency  \\\n",
       "0          60 Hz Refresh Rate   2 x HDMI | 2 x USB     1 Year Warranty   \n",
       "1  HD Ready 1366 x 768 Pixels  20 W Speaker Output  60 Hz Refresh Rate   \n",
       "\n",
       "      Ratio  DiscountRatio  Netflix  PrimeVideo  HighDefinition  \n",
       "0  0.122391       0.399500        0           0               0  \n",
       "1  0.137941       0.395427        1           0               0  "
      ]
     },
     "execution_count": 93,
     "metadata": {},
     "output_type": "execute_result"
    }
   ],
   "source": [
    "df_ev = df.copy()\n",
    "\n",
    "df_ev[\"Ratio\"] = df_ev[\"Reviews\"] / df_ev[\"Ratings\"]\n",
    "df_ev[\"DiscountRatio\"] = df_ev[\"current_price\"] / df_ev[\"MRP\"]\n",
    "df_ev[\"Netflix\"] = 0\n",
    "df_ev.loc[df_ev[\"channel\"].str.contains(\"Netflix\"), \"Netflix\"] = 1\n",
    "df_ev[\"PrimeVideo\"] = 0\n",
    "df_ev.loc[df_ev[\"channel\"].str.contains(\"Prime Video\"), \"PrimeVideo\"] = 1\n",
    "df_ev[\"HighDefinition\"] = 0\n",
    "df_ev.loc[df_ev[\"Picture_quality\"].str.contains(\"8K\"), \"HighDefinition\"] = 1\n",
    "df_ev.loc[df_ev[\"Picture_quality\"].str.contains(\"4K\"), \"HighDefinition\"] = 1\n",
    "\n",
    "df_ev.head(2)\n",
    "\n",
    "# 위에까지 하고 random forest 는 하지도 못함."
   ]
  },
  {
   "cell_type": "code",
   "execution_count": 147,
   "metadata": {},
   "outputs": [
    {
     "data": {
      "text/plain": [
       "'x3'"
      ]
     },
     "execution_count": 147,
     "metadata": {},
     "output_type": "execute_result"
    }
   ],
   "source": [
    "## Q3 정답\n",
    "df_q3 = df.loc[~df[\"channel\"].str.contains(\"Pixel|Oper\"), ].reset_index(drop = True)\n",
    "df_q3[\"x1\"] = df_q3[\"Reviews\"] / df_q3[\"Ratings\"]\n",
    "df_q3[\"x2\"] = df_q3[\"MRP\"]\n",
    "df_q3[\"x3\"] = df_q3[\"current_price\"] / df_q3[\"MRP\"]\n",
    "df_q3[\"x4\"] = df_q3[\"channel\"].str.contains(\"Netflix\") + 0\n",
    "df_q3[\"x5\"] = df_q3[\"channel\"].str.contains(\"Prime Video\") + 0\n",
    "df_q3[\"x6\"] = df_q3[\"Picture_quality\"].str.contains(\"4K|8K\") + 0\n",
    "\n",
    "df_q3_sub = df_q3[[\"Stars\", \"x1\", \"x2\", \"x3\", \"x4\", \"x5\", \"x6\"]]\n",
    "\n",
    "df_q3_sub.isna().sum() # 351 개가 x1에 있다.\n",
    "\n",
    "df_model = df_q3_sub.dropna()\n",
    "\n",
    "model = RandomForestRegressor(random_state=123)\n",
    "model.fit(X=df_model.drop(columns = \"Stars\"), y =df_model[\"Stars\"])\n",
    "model.feature_importances_ # 음 x3이 매우 중요하군\n",
    "\n",
    "ser_f = pd.Series(model.feature_importances_, index = df_model.columns[1:])\n",
    "ser_f.idxmax() # 할인율"
   ]
  },
  {
   "cell_type": "code",
   "execution_count": null,
   "metadata": {},
   "outputs": [],
   "source": []
  }
 ],
 "metadata": {
  "kernelspec": {
   "display_name": ".venv",
   "language": "python",
   "name": "python3"
  },
  "language_info": {
   "codemirror_mode": {
    "name": "ipython",
    "version": 3
   },
   "file_extension": ".py",
   "mimetype": "text/x-python",
   "name": "python",
   "nbconvert_exporter": "python",
   "pygments_lexer": "ipython3",
   "version": "3.11.4"
  },
  "orig_nbformat": 4
 },
 "nbformat": 4,
 "nbformat_minor": 2
}
