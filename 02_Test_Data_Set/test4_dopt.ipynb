{
 "cells": [
  {
   "cell_type": "code",
   "execution_count": 1,
   "metadata": {},
   "outputs": [
    {
     "data": {
      "text/html": [
       "<div>\n",
       "<style scoped>\n",
       "    .dataframe tbody tr th:only-of-type {\n",
       "        vertical-align: middle;\n",
       "    }\n",
       "\n",
       "    .dataframe tbody tr th {\n",
       "        vertical-align: top;\n",
       "    }\n",
       "\n",
       "    .dataframe thead th {\n",
       "        text-align: right;\n",
       "    }\n",
       "</style>\n",
       "<table border=\"1\" class=\"dataframe\">\n",
       "  <thead>\n",
       "    <tr style=\"text-align: right;\">\n",
       "      <th></th>\n",
       "      <th>user</th>\n",
       "      <th>prod</th>\n",
       "      <th>gender</th>\n",
       "      <th>age_group</th>\n",
       "      <th>job</th>\n",
       "      <th>city</th>\n",
       "      <th>marital</th>\n",
       "      <th>prod_cat1</th>\n",
       "      <th>prod_cat2</th>\n",
       "      <th>prod_cat3</th>\n",
       "      <th>purchase</th>\n",
       "    </tr>\n",
       "  </thead>\n",
       "  <tbody>\n",
       "    <tr>\n",
       "      <th>0</th>\n",
       "      <td>1</td>\n",
       "      <td>P00069042</td>\n",
       "      <td>F</td>\n",
       "      <td>0-17</td>\n",
       "      <td>10</td>\n",
       "      <td>A</td>\n",
       "      <td>0</td>\n",
       "      <td>3</td>\n",
       "      <td>NaN</td>\n",
       "      <td>NaN</td>\n",
       "      <td>8370</td>\n",
       "    </tr>\n",
       "    <tr>\n",
       "      <th>1</th>\n",
       "      <td>1</td>\n",
       "      <td>P00248942</td>\n",
       "      <td>F</td>\n",
       "      <td>0-17</td>\n",
       "      <td>10</td>\n",
       "      <td>A</td>\n",
       "      <td>0</td>\n",
       "      <td>1</td>\n",
       "      <td>6.0</td>\n",
       "      <td>14.0</td>\n",
       "      <td>15200</td>\n",
       "    </tr>\n",
       "  </tbody>\n",
       "</table>\n",
       "</div>"
      ],
      "text/plain": [
       "   user       prod gender age_group  job city  marital  prod_cat1  prod_cat2  \\\n",
       "0     1  P00069042      F      0-17   10    A        0          3        NaN   \n",
       "1     1  P00248942      F      0-17   10    A        0          1        6.0   \n",
       "\n",
       "   prod_cat3  purchase  \n",
       "0        NaN      8370  \n",
       "1       14.0     15200  "
      ]
     },
     "execution_count": 1,
     "metadata": {},
     "output_type": "execute_result"
    }
   ],
   "source": [
    "import pandas as pd\n",
    "import numpy as np\n",
    "from sklearn.preprocessing import MinMaxScaler\n",
    "from sklearn.cluster import KMeans\n",
    "from sklearn.metrics import silhouette_score\n",
    "\n",
    "df = pd.read_csv(\"sales_pos.csv\")\n",
    "df.head(2)"
   ]
  },
  {
   "attachments": {},
   "cell_type": "markdown",
   "metadata": {},
   "source": [
    "# Q1"
   ]
  },
  {
   "cell_type": "code",
   "execution_count": 112,
   "metadata": {},
   "outputs": [
    {
     "data": {
      "text/plain": [
       "4"
      ]
     },
     "execution_count": 112,
     "metadata": {},
     "output_type": "execute_result"
    }
   ],
   "source": [
    "df_q1 = df[[\"prod\", \"job\", \"purchase\"]]\n",
    "prod = df_q1.groupby([\"prod\"])[\"purchase\"].sum().sort_values(ascending=False).index[0] # P00025442\n",
    "df_q1[df_q1[\"prod\"] == prod].groupby([\"job\"])[\"purchase\"].sum().sort_values(ascending=False).index[0] # 해당 상품의 개수를 ㅜㄱ하는 것이므로 우연히 답은 맞았으나 이건 틀린 것\n"
   ]
  },
  {
   "cell_type": "code",
   "execution_count": 110,
   "metadata": {},
   "outputs": [
    {
     "data": {
      "text/plain": [
       "4"
      ]
     },
     "execution_count": 110,
     "metadata": {},
     "output_type": "execute_result"
    }
   ],
   "source": [
    "#답\n",
    "df_q1 = df[[\"prod\", \"job\", \"purchase\"]].copy()\n",
    "best_prod = df_q1.groupby(\"prod\")[\"purchase\"].sum().idxmax()\n",
    "df_q1_sub = df_q1.loc[df_q1[\"prod\"] == best_prod, ]\n",
    "df_q1_sub[\"job\"].value_counts().idxmax()"
   ]
  },
  {
   "attachments": {},
   "cell_type": "markdown",
   "metadata": {},
   "source": [
    "# Q2"
   ]
  },
  {
   "cell_type": "code",
   "execution_count": 113,
   "metadata": {},
   "outputs": [
    {
     "data": {
      "text/plain": [
       "21"
      ]
     },
     "execution_count": 113,
     "metadata": {},
     "output_type": "execute_result"
    }
   ],
   "source": [
    "# df_q2 = df[df[\"age_group\"] == \"26-35\"].copy()\n",
    "df_q2 = df.copy()\n",
    "\n",
    "df_q2[\"prod_cat1\"] = df_q2[\"prod_cat1\"].fillna(\"0\").astype(int).astype(str)\n",
    "df_q2[\"prod_cat2\"] = df_q2[\"prod_cat2\"].fillna(\"0\").astype(int).astype(str)\n",
    "df_q2[\"prod_cat3\"] = df_q2[\"prod_cat3\"].fillna(\"0\").astype(int).astype(str)\n",
    "df_q2[\"prod_cat\"] = df_q2[\"prod_cat1\"] + \"-\" + df_q2[\"prod_cat2\"] + \"-\" + df_q2[\"prod_cat3\"]\n",
    "# df_q2[df_q2[\"user\"] == 1].groupby([\"prod_cat\"]).count().reset_index()\n",
    "temp = df_q2.groupby([\"user\", \"prod_cat\"]).count().reset_index()\n",
    "temp[temp[\"user\"] == 1].shape[0] # 21개 맞게 나옴 \n",
    "\n"
   ]
  },
  {
   "cell_type": "code",
   "execution_count": 128,
   "metadata": {},
   "outputs": [
    {
     "data": {
      "text/plain": [
       "0.13"
      ]
     },
     "execution_count": 128,
     "metadata": {},
     "output_type": "execute_result"
    }
   ],
   "source": [
    "#답\n",
    "df_u1 = df.loc[df[\"user\"] == 1, [\"prod_cat1\", \"prod_cat2\", \"prod_cat3\"]]\n",
    "df_u1 = df_u1.reset_index(drop=True)\n",
    "df_u1 = df_u1.fillna(0) # pandas 는 결측치가 있으면 float64로 변경된다.\n",
    "df_u1.drop_duplicates().shape # 21 개 나온다.\n",
    "\n",
    "df_u1[\"prod_cat1\"] = df_u1[\"prod_cat1\"].astype(\"int\").astype(\"str\")\n",
    "df_u1[\"prod_cat2\"] = df_u1[\"prod_cat2\"].astype(\"int\").astype(\"str\")\n",
    "df_u1[\"prod_cat3\"] = df_u1[\"prod_cat3\"].astype(\"int\").astype(\"str\")\n",
    "df_u1[\"prod_cat\"] = df_u1[\"prod_cat1\"] + \"-\" + df_u1[\"prod_cat2\"] + \"-\" + df_u1[\"prod_cat3\"]\n",
    "df_u1[\"prod_cat\"].nunique() # 21개 나온다.\n",
    "\n",
    "df_q2 = df.loc[df[\"age_group\"] == \"26-35\", ]\n",
    "df_q2 = df_q2[[\"user\", \"marital\", \"prod_cat1\", \"prod_cat2\", \"prod_cat3\"]].reset_index(drop=True).fillna(0)\n",
    "\n",
    "\n",
    "df_q2[\"prod_cat1\"] = df_q2[\"prod_cat1\"].astype(\"int\").astype(\"str\")\n",
    "df_q2[\"prod_cat2\"] = df_q2[\"prod_cat2\"].astype(\"int\").astype(\"str\")\n",
    "df_q2[\"prod_cat3\"] = df_q2[\"prod_cat3\"].astype(\"int\").astype(\"str\")\n",
    "df_q2[\"prod_cat\"] = df_q2[\"prod_cat1\"] + \"-\" + df_q2[\"prod_cat2\"] + \"-\" + df_q2[\"prod_cat3\"]\n",
    "\n",
    "# groupby Try\n",
    "df_q2_agg = df_q2.groupby([\"user\", \"marital\"])[\"prod_cat\"].nunique().reset_index()\n",
    "df_q2_agg\n",
    "\n",
    "stat_m0 = df_q2_agg.loc[df_q2_agg[\"marital\"] == 0, \"prod_cat\"].mean()\n",
    "stat_m1 = df_q2_agg.loc[df_q2_agg[\"marital\"] == 1, \"prod_cat\"].mean()\n",
    "round(abs(stat_m0 - stat_m1), 2) # 0.13\n",
    "\n"
   ]
  },
  {
   "attachments": {},
   "cell_type": "markdown",
   "metadata": {},
   "source": [
    "# Q3"
   ]
  },
  {
   "cell_type": "code",
   "execution_count": null,
   "metadata": {},
   "outputs": [],
   "source": [
    "df_q3 = df[[\"gender\", \"age_group\", \"job\", \"city\", \"marital\", \"prod\", \"purchase\"]]"
   ]
  },
  {
   "cell_type": "code",
   "execution_count": 159,
   "metadata": {},
   "outputs": [
    {
     "name": "stderr",
     "output_type": "stream",
     "text": [
      "d:\\2.Projects\\8. Python\\DS2\\.venv\\Lib\\site-packages\\sklearn\\cluster\\_kmeans.py:1412: FutureWarning: The default value of `n_init` will change from 10 to 'auto' in 1.4. Set the value of `n_init` explicitly to suppress the warning\n",
      "  super()._check_params_vs_input(X, default_n_init=10)\n"
     ]
    },
    {
     "data": {
      "text/plain": [
       "0.18"
      ]
     },
     "execution_count": 159,
     "metadata": {},
     "output_type": "execute_result"
    }
   ],
   "source": [
    "# 답\n",
    "\n",
    "df_q3_user = df[[\"user\", \"gender\", \"age_group\", \"job\", \"city\", \"marital\" ]].copy()\n",
    "df_q3_user[\"user\"].nunique() == df_q3_user.drop_duplicates().reset_index(drop = True).shape[0] # 둘다 5891 로 동일하다, 즉, user 한명당 하나의 데이터만 가지고 있다.\n",
    "\n",
    "df_q3_agg = df.groupby(\"user\")[[\"prod\", \"purchase\"]].agg({\"prod\": \"nunique\", \"purchase\": \"sum\"})\n",
    "df_q3 = df_q3_user.merge(df_q3_agg, on = \"user\").drop_duplicates().reset_index(drop = True)\n",
    "df_q3\n",
    "\n",
    "# Alternative - 위에서 user 별 서로 다른 정보가 없어서 가능한것.. user나 다른걸로 보나.. \n",
    "# cols = [\"user\", \"gender\", \"age_group\", \"job\", \"city\", \"marital\" ]\n",
    "# df_q3 = df.groupby(cols)[[\"prod\", \"purchase\"]].agg({\"prod\": \"nunique\", \"purchase\": \"sum\"}).reset_index()\n",
    "# df_q3\n",
    "\n",
    "df_q3[\"gender\"] = df_q3[\"gender\"].replace({\"M\": 1, \"F\": 0})\n",
    "arr_u = df_q3[\"age_group\"].unique()\n",
    "# arr_u = arr_u.sort() # 안된다.\n",
    "arr_u.sort() \n",
    "arr_u\n",
    "\n",
    "ser_repl = pd.Series(range(7), index = arr_u)\n",
    "\n",
    "pd.crosstab(df_q3[\"age_group\"], df[\"age_group\"].replace(ser_repl)) # 잘 매칭이 되었는지 검증해보는것\n",
    "\n",
    "df_q3[\"age_group\"] = df[\"age_group\"].replace(ser_repl)\n",
    "\n",
    "#df_q3_dum = pd.get_dummies(df_q3, dtype=\"int\") # 이렇게 하면 object type은 자동변환 하지만, job 처럼 애초에 int 타입은 변환이 안된다. 문제에서 직업과 도시라고 했으니 지정 필요\n",
    "df_q3_dum = pd.get_dummies(df_q3, columns=[\"job\", \"city\"], dtype=\"int\")\n",
    "df_q3_dum = df_q3_dum.drop(columns=[\"user\"])\n",
    "\n",
    "# test/train을 나누지 않으므로 모델 필요 없다고 한다.\n",
    "arr_q3_nor = MinMaxScaler().fit_transform(df_q3_dum)\n",
    "arr_q3_nor[:1,]\n",
    "\n",
    "\n",
    "model_kmeans = KMeans(n_clusters=7, random_state=123)\n",
    "model_kmeans.fit(arr_q3_nor)\n",
    "len(model_kmeans.labels_) # 5891\n",
    "round(silhouette_score(X=arr_q3_nor, labels = model_kmeans.labels_), 2)\n",
    "\n",
    "\n",
    "\n"
   ]
  },
  {
   "cell_type": "code",
   "execution_count": 163,
   "metadata": {},
   "outputs": [
    {
     "data": {
      "text/plain": [
       "cluster\n",
       "2    1291\n",
       "4    1004\n",
       "6     980\n",
       "0     868\n",
       "1     703\n",
       "5     652\n",
       "3     393\n",
       "Name: count, dtype: int64"
      ]
     },
     "execution_count": 163,
     "metadata": {},
     "output_type": "execute_result"
    }
   ],
   "source": [
    "df_q3[\"cluster\"] = model_kmeans.labels_\n",
    "df_q3.groupby(\"cluster\")[\"age_group\"].mean() # 누구의 나이대가 큰지 작은지 확인 가능\n",
    "df_q3[\"cluster\"].value_counts() # 클러스터의 개수 확인"
   ]
  },
  {
   "cell_type": "code",
   "execution_count": null,
   "metadata": {},
   "outputs": [],
   "source": []
  }
 ],
 "metadata": {
  "kernelspec": {
   "display_name": ".venv",
   "language": "python",
   "name": "python3"
  },
  "language_info": {
   "codemirror_mode": {
    "name": "ipython",
    "version": 3
   },
   "file_extension": ".py",
   "mimetype": "text/x-python",
   "name": "python",
   "nbconvert_exporter": "python",
   "pygments_lexer": "ipython3",
   "version": "3.11.4"
  },
  "orig_nbformat": 4
 },
 "nbformat": 4,
 "nbformat_minor": 2
}
